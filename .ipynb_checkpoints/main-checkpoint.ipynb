{
 "cells": [
  {
   "cell_type": "code",
   "execution_count": null,
   "metadata": {},
   "outputs": [
    {
     "name": "stdout",
     "output_type": "stream",
     "text": [
      "Image size: 1920 x 1080  \n",
      "------------------------------------------------------------\n",
      "GRAYSCALE:\n",
      "Elapsed time: 5.296945095062256\n",
      "------------------------------------------------------------\n",
      "CANNY:\n",
      "Elapsed time: 0.9038381576538086\n",
      "------------------------------------------------------------\n",
      "ROBERT-CROSS:\n",
      "Elapsed time: 0.15501832962036133\n",
      "------------------------------------------------------------\n"
     ]
    }
   ],
   "source": [
    "%run edgeDetection picture2.jpg 0.6"
   ]
  },
  {
   "cell_type": "code",
   "execution_count": null,
   "metadata": {
    "collapsed": true
   },
   "outputs": [],
   "source": []
  },
  {
   "cell_type": "code",
   "execution_count": null,
   "metadata": {
    "collapsed": true
   },
   "outputs": [],
   "source": []
  }
 ],
 "metadata": {
  "kernelspec": {
   "display_name": "Python 3",
   "language": "python",
   "name": "python3"
  },
  "language_info": {
   "codemirror_mode": {
    "name": "ipython",
    "version": 3
   },
   "file_extension": ".py",
   "mimetype": "text/x-python",
   "name": "python",
   "nbconvert_exporter": "python",
   "pygments_lexer": "ipython3",
   "version": "3.6.1"
  }
 },
 "nbformat": 4,
 "nbformat_minor": 2
}
