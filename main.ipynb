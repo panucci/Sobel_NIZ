{
 "cells": [
  {
   "cell_type": "code",
   "execution_count": 2,
   "metadata": {
    "scrolled": true
   },
   "outputs": [
    {
     "name": "stdout",
     "output_type": "stream",
     "text": [
      "Image size: 1200 x 800  \n",
      "------------------------------------------------------------\n",
      "GRAYSCALE:\n",
      "Elapsed time: 2.4730379581451416\n",
      "------------------------------------------------------------\n",
      "CANNY:\n",
      "Elapsed time: 0.40008997917175293\n",
      "------------------------------------------------------------\n",
      "ROBERT-CROSS:\n",
      "Elapsed time: 0.07277464866638184\n",
      "------------------------------------------------------------\n",
      "SOBEL BASIC IMPLEMETATION:\n",
      "Elapsed time: 11.367362260818481\n",
      "------------------------------------------------------------\n",
      "SOBEL IMPLEMETATION USING SCIPY.NDIMAGE.FILTERS.CONVOLVE:\n",
      "Elapsed time: 1.598736047744751\n",
      "------------------------------------------------------------\n",
      "SCIPY SOBEL:\n",
      "Elapsed time: 0.3178527355194092\n",
      "------------------------------------------------------------\n"
     ]
    },
    {
     "data": {
      "image/png": "[encoded data removed]",
      "text/plain": [
       "<matplotlib.figure.Figure at 0x1aaf04c96a0>"
      ]
     },
     "metadata": {},
     "output_type": "display_data"
    }
   ],
   "source": [
    "%run edgeDetection picture4.jpg 0.6 4"
   ]
  },
  {
   "cell_type": "code",
   "execution_count": null,
   "metadata": {
    "collapsed": true
   },
   "outputs": [],
   "source": []
  },
  {
   "cell_type": "code",
   "execution_count": null,
   "metadata": {
    "collapsed": true
   },
   "outputs": [],
   "source": []
  }
 ],
 "metadata": {
  "kernelspec": {
   "display_name": "Python 3",
   "language": "python",
   "name": "python3"
  },
  "language_info": {
   "codemirror_mode": {
    "name": "ipython",
    "version": 3
   },
   "file_extension": ".py",
   "mimetype": "text/x-python",
   "name": "python",
   "nbconvert_exporter": "python",
   "pygments_lexer": "ipython3",
   "version": "3.6.1"
  }
 },
 "nbformat": 4,
 "nbformat_minor": 2
}
